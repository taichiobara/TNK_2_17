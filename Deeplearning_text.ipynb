{
 "cells": [
  {
   "cell_type": "markdown",
   "metadata": {
    "colab": {},
    "colab_type": "code",
    "id": "rwGWQT3JP8QH"
   },
   "source": [
    "# ディープラーニングをやってみよう！"
   ]
  },
  {
   "cell_type": "markdown",
   "metadata": {},
   "source": [
    "## shift+Enterでセル（枠で囲まれた部分）を実行できます。"
   ]
  },
  {
   "cell_type": "markdown",
   "metadata": {},
   "source": [
    "### まず使うライブラリ達を読み込みます。"
   ]
  },
  {
   "cell_type": "code",
   "execution_count": 1,
   "metadata": {},
   "outputs": [
    {
     "name": "stderr",
     "output_type": "stream",
     "text": [
      "Using TensorFlow backend.\n",
      "/anaconda3/lib/python3.6/site-packages/h5py/__init__.py:36: FutureWarning: Conversion of the second argument of issubdtype from `float` to `np.floating` is deprecated. In future, it will be treated as `np.float64 == np.dtype(float).type`.\n",
      "  from ._conv import register_converters as _register_converters\n"
     ]
    }
   ],
   "source": [
    "#numpyは多次元配列における数値計算を得意とするライブラリです。\n",
    "import numpy as np\n",
    "#matplotlibは可視化のためのライブラリです。\n",
    "import matplotlib.pyplot as plt\n",
    "%matplotlib inline\n",
    "\n",
    "#kerasはdeep learning向けのフレームワークです。\n",
    "#今回使うのはkerasというフレームワークでシンプルな記述が特徴です。\n",
    "import keras\n",
    "from keras.models import Sequential\n",
    "from keras.layers import Dense, Activation, Flatten\n",
    "from keras.optimizers import SGD\n",
    "\n",
    "#one-hot-encodingを使うためのライブラリを読み込む\n",
    "from keras.utils import np_utils\n",
    "\n",
    "#画像処理のための道具を読み込む\n",
    "import cv2"
   ]
  },
  {
   "cell_type": "markdown",
   "metadata": {},
   "source": [
    "### ではさっそく使うデータを読み込みます。"
   ]
  },
  {
   "cell_type": "code",
   "execution_count": 2,
   "metadata": {
    "colab": {},
    "colab_type": "code",
    "id": "qaIvQDeEQYMt"
   },
   "outputs": [],
   "source": [
    "#keras内のMNISTデータセットをimport します。\n",
    "#kerasにはもともとMNISTデータが入っているため、自分でデータを集めるという行程を今回は省くことができます。\n",
    "from keras.datasets import mnist\n",
    "\n",
    "# MNISTデータをロードしてX_train, y_train, X_test, y_testに入れます。\n",
    "(X_train, y_train), (X_test, y_test) = mnist.load_data()"
   ]
  },
  {
   "cell_type": "markdown",
   "metadata": {},
   "source": [
    "### 今回使うデータは「mnist」という有名な画像データ集です。\n",
    "### 黒い背景に白い文字で数字が書かれている手書き数字画像で ↓こんな感じ"
   ]
  },
  {
   "cell_type": "markdown",
   "metadata": {},
   "source": [
    "![MNIST](mnist1.png)"
   ]
  },
  {
   "cell_type": "markdown",
   "metadata": {},
   "source": [
    "# データの前処理\n",
    "## データの前処理をするにはまず、どんなデータを使っているかを調べる必要があります。"
   ]
  },
  {
   "cell_type": "code",
   "execution_count": 3,
   "metadata": {},
   "outputs": [
    {
     "name": "stdout",
     "output_type": "stream",
     "text": [
      "(60000, 28, 28)\n",
      "(60000,)\n",
      "(10000, 28, 28)\n",
      "(10000,)\n"
     ]
    }
   ],
   "source": [
    "#.shapeでデータの形式を確認します。\n",
    "print(X_train.shape)\n",
    "print(y_train.shape)\n",
    "print(X_test.shape)\n",
    "print(y_test.shape)"
   ]
  },
  {
   "cell_type": "markdown",
   "metadata": {},
   "source": [
    "### ↑でわかるように、X_trainには28×28の画像が60000枚, y_trainにはX_trainの画像それぞれに対応するラベルが入っています。\n",
    "### 同様にX_testには28×28の画像が10000枚, y_testにはX_testの画像それぞれに対応するラベルが入っています。"
   ]
  },
  {
   "cell_type": "markdown",
   "metadata": {},
   "source": [
    "### 例えば"
   ]
  },
  {
   "cell_type": "markdown",
   "metadata": {},
   "source": [
    "![MNIST](five.jpeg)"
   ]
  },
  {
   "cell_type": "markdown",
   "metadata": {},
   "source": [
    "### がX_trainの1番目の画像だとしたら、y_trainの1番目は「５」というラベルです。"
   ]
  },
  {
   "cell_type": "code",
   "execution_count": 4,
   "metadata": {},
   "outputs": [
    {
     "name": "stdout",
     "output_type": "stream",
     "text": [
      "uint8\n",
      "uint8\n"
     ]
    }
   ],
   "source": [
    "# データ型をdtypeで調べます。\n",
    "print(X_train.dtype)\n",
    "print(X_test.dtype)"
   ]
  },
  {
   "cell_type": "markdown",
   "metadata": {},
   "source": [
    "### unit8は符号なし8ビット整数型を表しています。つまり、0 ～ 255までの整数で表現されています。"
   ]
  },
  {
   "cell_type": "markdown",
   "metadata": {},
   "source": [
    "### 正規化（数値を0~1の範囲に収めること）すると精度が上がるので、正規化します。正規化するには、画素１つあたりに割り振られている数値の最大値（255）で数値を割れば良いのですが、255で割るとその値は整数ではなくなりuint8では表現しきれなくなります。\n",
    "### よって↓これで、小数も表せるようにします。"
   ]
  },
  {
   "cell_type": "code",
   "execution_count": 5,
   "metadata": {
    "colab": {},
    "colab_type": "code",
    "id": "nEjFtuyiQmXD"
   },
   "outputs": [],
   "source": [
    "#.astypeでデータ型を変形できます。「f」はfloat　不動小数点を表しています。\n",
    "X_train = X_train.astype('f')\n",
    "X_test = X_test.astype('f')"
   ]
  },
  {
   "cell_type": "code",
   "execution_count": 6,
   "metadata": {},
   "outputs": [
    {
     "name": "stdout",
     "output_type": "stream",
     "text": [
      "float32\n",
      "float32\n"
     ]
    }
   ],
   "source": [
    "#データ型をdtypeで調べます。\n",
    "print(X_train.dtype)\n",
    "print(X_test.dtype)"
   ]
  },
  {
   "cell_type": "markdown",
   "metadata": {},
   "source": [
    "### ちゃんと小数点も表せるようになってますね。"
   ]
  },
  {
   "cell_type": "markdown",
   "metadata": {},
   "source": [
    "### 小数も表せるようになったので、正規化します。"
   ]
  },
  {
   "cell_type": "code",
   "execution_count": 7,
   "metadata": {
    "colab": {},
    "colab_type": "code",
    "id": "kHVSPKKtQuD2"
   },
   "outputs": [],
   "source": [
    "# 画素を0.0-1.0の範囲に正規化\n",
    "X_train /= 255\n",
    "X_test /= 255"
   ]
  },
  {
   "cell_type": "code",
   "execution_count": 8,
   "metadata": {},
   "outputs": [
    {
     "name": "stdout",
     "output_type": "stream",
     "text": [
      "0.0\n"
     ]
    }
   ],
   "source": [
    "#例えばX_trainの１番目の画像の一行目の1列目に対応する画素は0.0という値を持つようになりました。\n",
    "print(X_train[0][0][0])"
   ]
  },
  {
   "cell_type": "code",
   "execution_count": 9,
   "metadata": {},
   "outputs": [
    {
     "name": "stdout",
     "output_type": "stream",
     "text": [
      "uint8\n",
      "uint8\n"
     ]
    }
   ],
   "source": [
    "#同様にラベルが入ってるデータ集のほうのデータ形式を確認します。\n",
    "print(y_train.dtype)\n",
    "print(y_test.dtype)"
   ]
  },
  {
   "cell_type": "code",
   "execution_count": 30,
   "metadata": {},
   "outputs": [
    {
     "name": "stdout",
     "output_type": "stream",
     "text": [
      "(60000,)\n",
      "(10000,)\n"
     ]
    }
   ],
   "source": [
    "#データの形を確認します。\n",
    "print(y_train.shape)\n",
    "print(y_test.shape)"
   ]
  },
  {
   "cell_type": "markdown",
   "metadata": {},
   "source": [
    "### 今、1と書かれた画像のラベルは1に、5と書かれた画像のラベルは5となっています。これだと、数字が書かれた画像を比較した時にそこには大小関係は存在しないのに、まるで大小関係が存在するかのようになってしまいます。よってこれをone hot encofingという方法を用いて直します。"
   ]
  },
  {
   "cell_type": "markdown",
   "metadata": {},
   "source": [
    "![MNIST](one-hot.png)"
   ]
  },
  {
   "cell_type": "code",
   "execution_count": 13,
   "metadata": {
    "colab": {},
    "colab_type": "code",
    "id": "CLKrAg-nQwfV"
   },
   "outputs": [],
   "source": [
    "#np_utils.to_categoricalでOne hot表現に変換できる\n",
    "Y_train = np_utils.to_categorical(y_train, num_classes=10)\n",
    "Y_test = np_utils.to_categorical(y_test, num_classes=10)"
   ]
  },
  {
   "cell_type": "code",
   "execution_count": 14,
   "metadata": {},
   "outputs": [
    {
     "name": "stdout",
     "output_type": "stream",
     "text": [
      "(60000, 10)\n",
      "(10000, 10)\n"
     ]
    }
   ],
   "source": [
    "print(Y_train.shape)\n",
    "print(Y_test.shape)"
   ]
  },
  {
   "cell_type": "markdown",
   "metadata": {},
   "source": [
    "### これで前処理は終了です。"
   ]
  },
  {
   "cell_type": "markdown",
   "metadata": {},
   "source": [
    "## 次にデータを学習するモデルを構成します。（モデル組み方は様々なので、各自工夫してみてください。）"
   ]
  },
  {
   "cell_type": "markdown",
   "metadata": {},
   "source": [
    "### ディープラーニングとはいえどやっていることは数式処理なので、値を関数に代入し新たな値を出すという作業を何度も何度も繰り返しています。"
   ]
  },
  {
   "cell_type": "markdown",
   "metadata": {},
   "source": [
    "### keras（deep learning用のフレームワーク）ではaddで層を積み上げていくイメージでモデルを構成します。\n",
    "### kerasには２つの利用可能なモデルがあるのですが、そのうちの１つのSequentialモデルを今回は利用します。"
   ]
  },
  {
   "cell_type": "code",
   "execution_count": 15,
   "metadata": {
    "colab": {},
    "colab_type": "code",
    "id": "1xMKlLpKQ8QD"
   },
   "outputs": [
    {
     "name": "stdout",
     "output_type": "stream",
     "text": [
      "WARNING:tensorflow:From /anaconda3/lib/python3.6/site-packages/keras/backend/tensorflow_backend.py:1062: calling reduce_prod (from tensorflow.python.ops.math_ops) with keep_dims is deprecated and will be removed in a future version.\n",
      "Instructions for updating:\n",
      "keep_dims is deprecated, use keepdims instead\n"
     ]
    }
   ],
   "source": [
    "#まずSequentialでやるよ、modelの上に積み上げるよって教えてあげます。（正確にはインスタンスを作ったということ）\n",
    "model = Sequential()  \n",
    "\n",
    "# .addでmodel　に層を積み上げていきます。\n",
    "\n",
    "# Flattenは下記参照\n",
    "# input_shapeで入力する画像のサイズを指定。\n",
    "model.add(Flatten(input_shape=(28, 28)))\n",
    "\n",
    "# Denseで二層目の指定をしている。ここでは出力を800にしている。\n",
    "model.add(Dense(800))\n",
    "\n",
    "# Activation:で活性化関数を定義する。今回はrelu関数を使います。\n",
    "model.add(Activation('relu'))\n",
    "\n",
    "model.add(Dense(1500))\n",
    "model.add(Activation('relu'))\n",
    "\n",
    "model.add(Dense(300))\n",
    "model.add(Activation('relu'))\n",
    "\n",
    "# ↓10にしたのは今回分類したいクラスは0~9の10個だからです。\n",
    "model.add(Dense(10))\n",
    "model.add(Activation('softmax'))"
   ]
  },
  {
   "cell_type": "markdown",
   "metadata": {},
   "source": [
    "### flattenで以下のように画像行列をベクトルに変える。今回は28×28　→　784×1　にする。（学習につかう画像のサイズは28×28）\n"
   ]
  },
  {
   "cell_type": "markdown",
   "metadata": {},
   "source": [
    "![flatten](flatten.png)"
   ]
  },
  {
   "cell_type": "markdown",
   "metadata": {},
   "source": [
    "![MNIST](model.png)"
   ]
  },
  {
   "cell_type": "markdown",
   "metadata": {},
   "source": [
    "### 次の層のノードの１つ１つがもつ値は前のノード達がもつ値を活性化関数(reluやsoftmax)に代入して出力された値です。"
   ]
  },
  {
   "cell_type": "code",
   "execution_count": 16,
   "metadata": {
    "colab": {},
    "colab_type": "code",
    "id": "JS0Zy1r0RHgN"
   },
   "outputs": [
    {
     "name": "stdout",
     "output_type": "stream",
     "text": [
      "WARNING:tensorflow:From /anaconda3/lib/python3.6/site-packages/keras/backend/tensorflow_backend.py:2550: calling reduce_sum (from tensorflow.python.ops.math_ops) with keep_dims is deprecated and will be removed in a future version.\n",
      "Instructions for updating:\n",
      "keep_dims is deprecated, use keepdims instead\n",
      "WARNING:tensorflow:From /anaconda3/lib/python3.6/site-packages/keras/backend/tensorflow_backend.py:1123: calling reduce_mean (from tensorflow.python.ops.math_ops) with keep_dims is deprecated and will be removed in a future version.\n",
      "Instructions for updating:\n",
      "keep_dims is deprecated, use keepdims instead\n"
     ]
    }
   ],
   "source": [
    "model.compile(loss='categorical_crossentropy',optimizer=SGD(),metrics=['accuracy'])    "
   ]
  },
  {
   "cell_type": "markdown",
   "metadata": {},
   "source": [
    "### lossで誤差関数を、optimizerで最適化手法を、metricsで評価基準を指定しました。"
   ]
  },
  {
   "cell_type": "markdown",
   "metadata": {},
   "source": [
    "## 以上でモデルの構成が終わりました。"
   ]
  },
  {
   "cell_type": "markdown",
   "metadata": {},
   "source": [
    "## 作ったモデルとデータで学習します。"
   ]
  },
  {
   "cell_type": "code",
   "execution_count": 17,
   "metadata": {
    "colab": {
     "base_uri": "https://localhost:8080/",
     "height": 122
    },
    "colab_type": "code",
    "id": "0McW2y-PRJlc",
    "outputId": "e7474b74-83e9-4794-c92f-055624af832b"
   },
   "outputs": [
    {
     "name": "stdout",
     "output_type": "stream",
     "text": [
      "Train on 60000 samples, validate on 10000 samples\n",
      "Epoch 1/2\n",
      "60000/60000 [==============================] - 19s - loss: 0.9141 - acc: 0.7928 - val_loss: 0.3919 - val_acc: 0.9000\n",
      "Epoch 2/2\n",
      "60000/60000 [==============================] - 17s - loss: 0.3504 - acc: 0.9045 - val_loss: 0.2941 - val_acc: 0.9192\n"
     ]
    }
   ],
   "source": [
    "hist = model.fit(X_train,Y_train,epochs=2,validation_data=(X_test, Y_test),verbose=1,batch_size=100)\n"
   ]
  },
  {
   "cell_type": "markdown",
   "metadata": {},
   "source": [
    "## 学習が終わりました。精度は9割を超えていますね。"
   ]
  },
  {
   "cell_type": "markdown",
   "metadata": {},
   "source": [
    "### 因みにですが、データの前処理の段階で正規化をしましたが、もしも正規化をしていないと精度は↓こんな感じでした。"
   ]
  },
  {
   "cell_type": "markdown",
   "metadata": {},
   "source": [
    "![MNIST](no_normalization.png)"
   ]
  },
  {
   "cell_type": "markdown",
   "metadata": {},
   "source": [
    "### 精度が低いですね...\n",
    "\n",
    "\n",
    "\n"
   ]
  },
  {
   "cell_type": "markdown",
   "metadata": {},
   "source": [
    "## では学習済みモデルを使って実際に予測してみましょう！！！"
   ]
  },
  {
   "cell_type": "markdown",
   "metadata": {},
   "source": [
    "## 試してみたい画像をダウンロードして、このファイル（Deeplearning_text.ipynb）と同じ階層においてください。\n",
    "## 画像はなるべく数字が中央にくるように、また形が正方形になるようにトリミングしてください。白背景で黒で太く数字が書かれているものを選んでください。"
   ]
  },
  {
   "cell_type": "code",
   "execution_count": 18,
   "metadata": {
    "colab": {},
    "colab_type": "code",
    "id": "JcgQFQ-gRyzl"
   },
   "outputs": [],
   "source": [
    " #cv2.imreadで試してみたい画像をimgに代入する。\n",
    "img = cv2.imread('three.jpeg')"
   ]
  },
  {
   "cell_type": "code",
   "execution_count": 19,
   "metadata": {
    "colab": {
     "base_uri": "https://localhost:8080/",
     "height": 286
    },
    "colab_type": "code",
    "id": "ev3X6yR8Tn-9",
    "outputId": "32f455d4-80db-4a58-d4bb-feccd2aa4343"
   },
   "outputs": [
    {
     "data": {
      "text/plain": [
       "<matplotlib.image.AxesImage at 0x18347394e0>"
      ]
     },
     "execution_count": 19,
     "metadata": {},
     "output_type": "execute_result"
    },
    {
     "data": {
      "image/png": "[encoded data removed]",
      "text/plain": [
       "<Figure size 432x288 with 1 Axes>"
      ]
     },
     "metadata": {},
     "output_type": "display_data"
    }
   ],
   "source": [
    "#試したい画像を一旦表示してみます。\n",
    "plt.imshow(img)"
   ]
  },
  {
   "cell_type": "code",
   "execution_count": 20,
   "metadata": {},
   "outputs": [
    {
     "name": "stdout",
     "output_type": "stream",
     "text": [
      "(225, 225, 3)\n"
     ]
    }
   ],
   "source": [
    "#試したい画像の形を表示します。\n",
    "print(img.shape)"
   ]
  },
  {
   "cell_type": "markdown",
   "metadata": {},
   "source": [
    "### 上で（a,b,3）と表示されたなら、サイズがa×bでカラーであることを意味します、(a,b）と表示されたなら、サイズがa×bで白黒であることを意味します。"
   ]
  },
  {
   "cell_type": "markdown",
   "metadata": {},
   "source": [
    "### 我々が作ったモデルはサイズが28×28で白黒の画像（背景が黒で文字が白い）で学習させたので試したい画像も同じようにしなければいけません。"
   ]
  },
  {
   "cell_type": "code",
   "execution_count": 21,
   "metadata": {
    "colab": {},
    "colab_type": "code",
    "id": "PH8ICkK3TuBS"
   },
   "outputs": [],
   "source": [
    "#まずサイズを28×28にします\n",
    "resized = cv2.resize(img, (28, 28))"
   ]
  },
  {
   "cell_type": "code",
   "execution_count": 22,
   "metadata": {
    "colab": {
     "base_uri": "https://localhost:8080/",
     "height": 34
    },
    "colab_type": "code",
    "id": "Rlfsr47dT-mc",
    "outputId": "629c9d21-d773-491e-e655-f911c475a30f"
   },
   "outputs": [
    {
     "name": "stdout",
     "output_type": "stream",
     "text": [
      "(28, 28, 3)\n"
     ]
    }
   ],
   "source": [
    "#28×28となっていることを確認してください。\n",
    "print(resized.shape)"
   ]
  },
  {
   "cell_type": "code",
   "execution_count": 23,
   "metadata": {},
   "outputs": [
    {
     "data": {
      "text/plain": [
       "<matplotlib.image.AxesImage at 0x1833f9f6d8>"
      ]
     },
     "execution_count": 23,
     "metadata": {},
     "output_type": "execute_result"
    },
    {
     "data": {
      "image/png": "[encoded data removed]",
      "text/plain": [
       "<Figure size 432x288 with 1 Axes>"
      ]
     },
     "metadata": {},
     "output_type": "display_data"
    }
   ],
   "source": [
    "plt.imshow(resized)"
   ]
  },
  {
   "cell_type": "code",
   "execution_count": 24,
   "metadata": {
    "colab": {},
    "colab_type": "code",
    "id": "PXThaY-tUDDC"
   },
   "outputs": [],
   "source": [
    "#次に白黒にします。print(img.shape)で（a,b)となった人は不要です。\n",
    "grayed = cv2.cvtColor(resized, cv2.COLOR_RGB2GRAY)"
   ]
  },
  {
   "cell_type": "code",
   "execution_count": 25,
   "metadata": {
    "colab": {
     "base_uri": "https://localhost:8080/",
     "height": 34
    },
    "colab_type": "code",
    "id": "Nx32GwO7UGhG",
    "outputId": "77fc8bc5-7071-4aa5-86a5-787b29130d5e"
   },
   "outputs": [
    {
     "name": "stdout",
     "output_type": "stream",
     "text": [
      "(28, 28)\n"
     ]
    }
   ],
   "source": [
    "#３番目の引数がなくなっていることを確認してください。\n",
    "print(grayed.shape)"
   ]
  },
  {
   "cell_type": "code",
   "execution_count": 26,
   "metadata": {
    "colab": {
     "base_uri": "https://localhost:8080/",
     "height": 282
    },
    "colab_type": "code",
    "id": "GP_R_m5tUJGf",
    "outputId": "ff5f8d90-dc20-4d76-e0da-f719d4971a74"
   },
   "outputs": [
    {
     "data": {
      "text/plain": [
       "<matplotlib.image.AxesImage at 0x183d776860>"
      ]
     },
     "execution_count": 26,
     "metadata": {},
     "output_type": "execute_result"
    },
    {
     "data": {
      "image/png": "[encoded data removed]",
      "text/plain": [
       "<Figure size 432x288 with 1 Axes>"
      ]
     },
     "metadata": {},
     "output_type": "display_data"
    }
   ],
   "source": [
    "plt.gray()\n",
    "plt.imshow(grayed)"
   ]
  },
  {
   "cell_type": "code",
   "execution_count": 27,
   "metadata": {
    "colab": {},
    "colab_type": "code",
    "id": "kw5kljX4UNZx"
   },
   "outputs": [],
   "source": [
    "#白と黒を入れ替えて、黒背景で白文字となるようにします。\n",
    "inv = cv2.bitwise_not(grayed)"
   ]
  },
  {
   "cell_type": "code",
   "execution_count": 28,
   "metadata": {
    "colab": {
     "base_uri": "https://localhost:8080/",
     "height": 282
    },
    "colab_type": "code",
    "id": "mZM9gcDXUlB7",
    "outputId": "1526d7b3-ed90-42fa-b223-8102862b66b7"
   },
   "outputs": [
    {
     "data": {
      "text/plain": [
       "<matplotlib.image.AxesImage at 0x18314effd0>"
      ]
     },
     "execution_count": 28,
     "metadata": {},
     "output_type": "execute_result"
    },
    {
     "data": {
      "image/png": "[encoded data removed]",
      "text/plain": [
       "<Figure size 432x288 with 1 Axes>"
      ]
     },
     "metadata": {},
     "output_type": "display_data"
    }
   ],
   "source": [
    "plt.gray()\n",
    "plt.imshow(inv)"
   ]
  },
  {
   "cell_type": "code",
   "execution_count": 29,
   "metadata": {
    "colab": {
     "base_uri": "https://localhost:8080/",
     "height": 34
    },
    "colab_type": "code",
    "id": "ADXY5LZHUnbM",
    "outputId": "686ed774-c840-42de-b33f-7bc83c41dafb"
   },
   "outputs": [
    {
     "name": "stdout",
     "output_type": "stream",
     "text": [
      "この画像の数字はズバリ  3 でしょう！！\n"
     ]
    }
   ],
   "source": [
    "pred = model.predict(inv.reshape(1, 28, 28)).argmax()\n",
    "print('この画像の数字はズバリ ', pred, 'でしょう！！')\n"
   ]
  },
  {
   "cell_type": "code",
   "execution_count": null,
   "metadata": {
    "colab": {},
    "colab_type": "code",
    "id": "cJZxMmfqU8-y"
   },
   "outputs": [],
   "source": []
  }
 ],
 "metadata": {
  "colab": {
   "collapsed_sections": [],
   "name": "TensorFlow with GPU",
   "provenance": [],
   "version": "0.3.2"
  },
  "kernelspec": {
   "display_name": "Python 3",
   "language": "python",
   "name": "python3"
  },
  "language_info": {
   "codemirror_mode": {
    "name": "ipython",
    "version": 3
   },
   "file_extension": ".py",
   "mimetype": "text/x-python",
   "name": "python",
   "nbconvert_exporter": "python",
   "pygments_lexer": "ipython3",
   "version": "3.6.4"
  }
 },
 "nbformat": 4,
 "nbformat_minor": 1
}
