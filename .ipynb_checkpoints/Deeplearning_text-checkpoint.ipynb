{
 "cells": [
  {
   "cell_type": "markdown",
   "metadata": {
    "colab": {},
    "colab_type": "code",
    "id": "rwGWQT3JP8QH"
   },
   "source": [
    "# ディープラーニングをやってみよう！"
   ]
  },
  {
   "cell_type": "markdown",
   "metadata": {},
   "source": [
    "## shift+Enterでセル（枠で囲まれた部分）を実行できます。"
   ]
  },
  {
   "cell_type": "markdown",
   "metadata": {},
   "source": [
    "[機械学習の基本的な流れ](https://qiita.com/takus69/items/16de1635d8aef43043a9)"
   ]
  },
  {
   "cell_type": "markdown",
   "metadata": {},
   "source": [
    "### まず使うライブラリ達を読み込みます。"
   ]
  },
  {
   "cell_type": "code",
   "execution_count": null,
   "metadata": {},
   "outputs": [],
   "source": [
    "#numpyは多次元配列における数値計算を得意とするライブラリです。\n",
    "import numpy as np\n",
    "#matplotlibは可視化のためのライブラリです。\n",
    "import matplotlib.pyplot as plt\n",
    "%matplotlib inline\n",
    "\n",
    "#kerasはdeep learning向けのフレームワークです。\n",
    "#今回使うのはkerasというフレームワークでシンプルな記述が特徴です。\n",
    "import keras\n",
    "from keras.models import Sequential\n",
    "#モデルを構成するときの道具を得ます。\n",
    "from keras.layers import Dense, Activation, Flatten\n",
    "from keras.optimizers import SGD\n",
    "\n",
    "#one-hot-encodingを使うためのライブラリを読み込む\n",
    "from keras.utils import np_utils\n",
    "\n",
    "#画像処理のための道具(open cv)を読み込む\n",
    "import cv2"
   ]
  },
  {
   "cell_type": "markdown",
   "metadata": {},
   "source": [
    "[numpyの解説](https://qiita.com/jyori112/items/a15658d1dd17c421e1e2)\n",
    "[matplotlibの解説](http://bicycle1885.hatenablog.com/entry/2014/02/14/023734)\n",
    "##### 「% matplotlib inline」はグラフを描画の際に指定する記述です。\n",
    "[open cvの解説](http://gihyo.jp/dev/feature/01/opencv/0002)\n",
    "\n",
    "\n"
   ]
  },
  {
   "cell_type": "markdown",
   "metadata": {},
   "source": [
    " [ライブラリとは](https://www.nttpc.co.jp/yougo/%E3%83%A9%E3%82%A4%E3%83%96%E3%83%A9%E3%83%AA.html)"
   ]
  },
  {
   "cell_type": "markdown",
   "metadata": {},
   "source": [
    "### ではさっそく使うデータを読み込みます。"
   ]
  },
  {
   "cell_type": "code",
   "execution_count": null,
   "metadata": {
    "colab": {},
    "colab_type": "code",
    "id": "qaIvQDeEQYMt"
   },
   "outputs": [],
   "source": [
    "#keras内のMNISTデータセットをimport します。\n",
    "#kerasにはもともとMNISTデータが入っているため、自分でデータを集めるという行程を今回は省くことができます。\n",
    "from keras.datasets import mnist\n",
    "\n",
    "# MNISTデータをロードしてX_train, y_train, X_test, y_testに入れます。\n",
    "(X_train, y_train), (X_test, y_test) = mnist.load_data()"
   ]
  },
  {
   "cell_type": "markdown",
   "metadata": {},
   "source": [
    "### 今回使うデータは「mnist」という有名な画像データ集です。\n",
    "### 黒い背景に白い文字で数字が書かれている手書き数字画像で ↓こんな感じ"
   ]
  },
  {
   "cell_type": "markdown",
   "metadata": {},
   "source": [
    "![MNIST](mnist.png)"
   ]
  },
  {
   "cell_type": "markdown",
   "metadata": {},
   "source": [
    "# データの前処理\n",
    "## データの前処理をするにはまず、どんなデータを使っているかを調べる必要があります。"
   ]
  },
  {
   "cell_type": "code",
   "execution_count": null,
   "metadata": {},
   "outputs": [],
   "source": [
    "#.shapeでデータの形式を確認します。\n",
    "print(X_train.shape)\n",
    "print(y_train.shape)\n",
    "print(X_test.shape)\n",
    "print(y_test.shape)"
   ]
  },
  {
   "cell_type": "markdown",
   "metadata": {},
   "source": [
    "### ↑でわかるように、X_trainには28×28の画像が60000枚, y_trainにはX_trainの画像それぞれに対応するラベルが入っています。\n",
    "### 同様にX_testには28×28の画像が10000枚, y_testにはX_testの画像それぞれに対応するラベルが入っています。"
   ]
  },
  {
   "cell_type": "markdown",
   "metadata": {},
   "source": [
    "### 例えば"
   ]
  },
  {
   "cell_type": "markdown",
   "metadata": {},
   "source": [
    "![](five.jpeg)"
   ]
  },
  {
   "cell_type": "markdown",
   "metadata": {},
   "source": [
    "### がX_trainの1番目の画像だとしたら、y_trainの1番目は「５」というラベルです。"
   ]
  },
  {
   "cell_type": "code",
   "execution_count": null,
   "metadata": {},
   "outputs": [],
   "source": [
    "# データ型をdtypeで調べます。\n",
    "print(X_train.dtype)\n",
    "print(X_test.dtype)"
   ]
  },
  {
   "cell_type": "markdown",
   "metadata": {},
   "source": [
    "### unit8は符号なし8ビット整数型を表しています。つまり、0 ～ 255までの整数で表現されています。"
   ]
  },
  {
   "cell_type": "markdown",
   "metadata": {},
   "source": [
    "### 正規化（数値を0~1の範囲に収めること）すると精度が上がるので、正規化します。正規化するには、画素１つあたりに割り振られている数値の最大値（255）で数値を割れば良いのですが、255で割るとその値は整数ではなくなりuint8では表現しきれなくなります。\n",
    "[feature scalingについて](https://qiita.com/ttskng/items/2a33c1ca925e4501e609)\n",
    "### よって↓これで、小数も表せるようにします。"
   ]
  },
  {
   "cell_type": "code",
   "execution_count": null,
   "metadata": {
    "colab": {},
    "colab_type": "code",
    "id": "nEjFtuyiQmXD"
   },
   "outputs": [],
   "source": [
    "#.astypeでデータ型を変形できます。「f」はfloat　不動小数点を表しています。\n",
    "X_train = X_train.astype('f')\n",
    "X_test = X_test.astype('f')"
   ]
  },
  {
   "cell_type": "markdown",
   "metadata": {},
   "source": [
    "#### [astypeの解説](https://note.nkmk.me/python-numpy-dtype-astype/)"
   ]
  },
  {
   "cell_type": "code",
   "execution_count": null,
   "metadata": {},
   "outputs": [],
   "source": [
    "#データ型をdtypeで調べます。\n",
    "print(X_train.dtype)\n",
    "print(X_test.dtype)"
   ]
  },
  {
   "cell_type": "markdown",
   "metadata": {},
   "source": [
    "### ちゃんと小数点も表せるようになってますね。"
   ]
  },
  {
   "cell_type": "markdown",
   "metadata": {},
   "source": [
    "### 小数も表せるようになったので、正規化します。"
   ]
  },
  {
   "cell_type": "code",
   "execution_count": null,
   "metadata": {
    "colab": {},
    "colab_type": "code",
    "id": "kHVSPKKtQuD2"
   },
   "outputs": [],
   "source": [
    "# 画素を0.0-1.0の範囲に正規化\n",
    "X_train /= 255\n",
    "X_test /= 255"
   ]
  },
  {
   "cell_type": "code",
   "execution_count": null,
   "metadata": {},
   "outputs": [],
   "source": [
    "#例えばX_trainの１番目の画像の一行目の1列目に対応する画素は0.0という値を持つようになりました。\n",
    "print(X_train[0][0][0])"
   ]
  },
  {
   "cell_type": "code",
   "execution_count": null,
   "metadata": {},
   "outputs": [],
   "source": [
    "#同様にラベルが入ってるデータ集のほうのデータ形式を確認します。\n",
    "print(y_train.dtype)\n",
    "print(y_test.dtype)"
   ]
  },
  {
   "cell_type": "code",
   "execution_count": null,
   "metadata": {},
   "outputs": [],
   "source": [
    "#データの形を確認します。\n",
    "print(y_train.shape)\n",
    "print(y_test.shape)"
   ]
  },
  {
   "cell_type": "markdown",
   "metadata": {},
   "source": [
    "### 今、1と書かれた画像のラベルは1に、5と書かれた画像のラベルは5となっています。これだと、数字が書かれた画像を比較した時にそこには大小関係は存在しないのに、まるで大小関係が存在するかのようになってしまいます。よってこれをone hot encofingという方法を用いて直します。"
   ]
  },
  {
   "cell_type": "markdown",
   "metadata": {},
   "source": [
    "![MNIST](one-hot.png)"
   ]
  },
  {
   "cell_type": "code",
   "execution_count": null,
   "metadata": {
    "colab": {},
    "colab_type": "code",
    "id": "CLKrAg-nQwfV"
   },
   "outputs": [],
   "source": [
    "#np_utils.to_categoricalでOne hot表現に変換できる\n",
    "Y_train = np_utils.to_categorical(y_train, num_classes=10)\n",
    "Y_test = np_utils.to_categorical(y_test, num_classes=10)"
   ]
  },
  {
   "cell_type": "code",
   "execution_count": null,
   "metadata": {},
   "outputs": [],
   "source": [
    "print(Y_train.shape)\n",
    "print(Y_test.shape)"
   ]
  },
  {
   "cell_type": "markdown",
   "metadata": {},
   "source": [
    "### これで前処理は終了です。"
   ]
  },
  {
   "cell_type": "markdown",
   "metadata": {},
   "source": [
    "## 次にデータを学習するモデルを構成します。（モデル組み方は様々なので、各自工夫してみてください。）"
   ]
  },
  {
   "cell_type": "markdown",
   "metadata": {},
   "source": [
    "### ディープラーニングとはいえどやっていることは数式処理なので、値を関数に代入し新たな値を出すという作業を何度も何度も繰り返しています。"
   ]
  },
  {
   "cell_type": "markdown",
   "metadata": {},
   "source": [
    "### keras（deep learning用のフレームワーク）ではaddで層を積み上げていくイメージでモデルを構成します。\n",
    "### kerasには２つの利用可能なモデルがあるのですが、そのうちの１つのSequentialモデルを今回は利用します。"
   ]
  },
  {
   "cell_type": "code",
   "execution_count": null,
   "metadata": {
    "colab": {},
    "colab_type": "code",
    "id": "1xMKlLpKQ8QD"
   },
   "outputs": [],
   "source": [
    "#まずSequentialでやるよ、modelの上に積み上げるよって教えてあげます。（正確にはインスタンスを作ったということ）\n",
    "model = Sequential()  \n",
    "\n",
    "# .addでmodel　に層を積み上げていきます。\n",
    "\n",
    "# Flattenは下記参照\n",
    "# input_shapeで入力する画像のサイズを指定。\n",
    "model.add(Flatten(input_shape=(28, 28)))\n",
    "\n",
    "# Denseで二層目の指定をしている。ここでは出力を800にしている。\n",
    "model.add(Dense(800))\n",
    "\n",
    "# Activation:で活性化関数を定義する。今回はrelu関数を使います。\n",
    "model.add(Activation('relu'))\n",
    "\n",
    "model.add(Dense(1500))\n",
    "model.add(Activation('relu'))\n",
    "\n",
    "model.add(Dense(300))\n",
    "model.add(Activation('relu'))\n",
    "\n",
    "# ↓10にしたのは今回分類したいクラスは0~9の10個だからです。\n",
    "model.add(Dense(10))\n",
    "model.add(Activation('softmax'))"
   ]
  },
  {
   "cell_type": "markdown",
   "metadata": {},
   "source": [
    "### flattenで以下のように画像行列をベクトルに変える。今回は28×28　→　784×1　にする。（学習につかう画像のサイズは28×28）\n"
   ]
  },
  {
   "cell_type": "markdown",
   "metadata": {},
   "source": [
    "![flatten](flatten.png)"
   ]
  },
  {
   "cell_type": "markdown",
   "metadata": {},
   "source": [
    "![MNIST](model.png)"
   ]
  },
  {
   "cell_type": "markdown",
   "metadata": {},
   "source": [
    "### 次の層のノードの１つ１つがもつ値は前のノード達がもつ値を活性化関数(reluやsoftmax)に代入して出力された値です。\n",
    "#### [活性化関数のグラフ](https://qiita.com/ohisama@github/items/a35979502067e3289850)"
   ]
  },
  {
   "cell_type": "code",
   "execution_count": null,
   "metadata": {
    "colab": {},
    "colab_type": "code",
    "id": "JS0Zy1r0RHgN"
   },
   "outputs": [],
   "source": [
    "#compileで学習の際の設定をする。\n",
    "model.compile(loss='categorical_crossentropy',optimizer=SGD(),metrics=['accuracy'])    "
   ]
  },
  {
   "cell_type": "markdown",
   "metadata": {},
   "source": [
    "### lossで誤差関数を、optimizerで最適化手法を、metricsで評価基準を指定しました。"
   ]
  },
  {
   "cell_type": "code",
   "execution_count": null,
   "metadata": {},
   "outputs": [],
   "source": []
  },
  {
   "cell_type": "markdown",
   "metadata": {},
   "source": [
    "## 以上でモデルの構成が終わりました。"
   ]
  },
  {
   "cell_type": "markdown",
   "metadata": {},
   "source": [
    "## 作ったモデルとデータで学習します。"
   ]
  },
  {
   "cell_type": "code",
   "execution_count": null,
   "metadata": {
    "colab": {
     "base_uri": "https://localhost:8080/",
     "height": 122
    },
    "colab_type": "code",
    "id": "0McW2y-PRJlc",
    "outputId": "e7474b74-83e9-4794-c92f-055624af832b"
   },
   "outputs": [],
   "source": [
    "# 学習は.fitと打つだけでできる！\n",
    "hist = model.fit(X_train,Y_train,epochs=2,validation_data=(X_test, Y_test),verbose=1,batch_size=128)\n"
   ]
  },
  {
   "cell_type": "markdown",
   "metadata": {},
   "source": [
    "## 学習が終わりました。精度は9割を超えていますね。"
   ]
  },
  {
   "cell_type": "markdown",
   "metadata": {},
   "source": [
    "##### validationとは英語で「検証」の意味\n",
    "#### verbose=1とすることで学習の状況ををリアルタムに表示してくれるからみてて楽しい。\n",
    "#### batch_sizeはハイパーパラメータの一種、2の累乗数にするのが王道らしい。今回は32だと96%、64だと93.9%、128だと96.7%だった。\n",
    "#### batch_sizeは一回の処理で何件のデータを処理するかを表している。epoch数は全データを何回回すか？を指定している。例えばbatch_sizeが32でエポック数が200の時、3200個のデータがあったとすると一周に100回分かかり、それを200回繰り返すということを表してる。batch_sizeが小さいと、また、epochsが大きいと時間がかかる。\n",
    "\n",
    "[わかりやすいサイト](http://aidiary.hatenablog.com/entry/20160328/1459174455)"
   ]
  },
  {
   "cell_type": "markdown",
   "metadata": {},
   "source": [
    "### 因みにですが、データの前処理の段階で正規化をしましたが、もしも正規化をしていないと精度は↓こんな感じでした。"
   ]
  },
  {
   "cell_type": "markdown",
   "metadata": {},
   "source": [
    "![MNIST](no_normalization.png)"
   ]
  },
  {
   "cell_type": "markdown",
   "metadata": {},
   "source": [
    "### 精度が低いですね...\n",
    "\n",
    "\n",
    "\n"
   ]
  },
  {
   "cell_type": "markdown",
   "metadata": {},
   "source": [
    "## では学習済みモデルを使って実際に予測してみましょう！！！"
   ]
  },
  {
   "cell_type": "markdown",
   "metadata": {},
   "source": [
    "## 自分で黒いマッキーで白い紙に数字を太く書いて写真をとり、数字が中央に大きくくるように、また形が正方形になるようにトリミングしてください。試してみたい画像をPCに入れて、このファイル（Deeplearning_text.ipynb）と同じ階層においてください。（前回と同様にアップロードすれば良いです、）\n",
    "## 0とかがおすすめです（わかりやすいから）\n",
    "\n",
    "### ↓ここにその画像ファイルの名前を入れてください。''は残しておいてください。\n"
   ]
  },
  {
   "cell_type": "code",
   "execution_count": null,
   "metadata": {
    "colab": {},
    "colab_type": "code",
    "id": "JcgQFQ-gRyzl"
   },
   "outputs": [],
   "source": [
    " #cv2.imreadで試してみたい画像をimgに代入する。\n",
    "img = cv2.imread('試したい画像ファイルの名前')"
   ]
  },
  {
   "cell_type": "code",
   "execution_count": null,
   "metadata": {
    "colab": {
     "base_uri": "https://localhost:8080/",
     "height": 286
    },
    "colab_type": "code",
    "id": "ev3X6yR8Tn-9",
    "outputId": "32f455d4-80db-4a58-d4bb-feccd2aa4343"
   },
   "outputs": [],
   "source": [
    "#試したい画像を一旦表示してみます。\n",
    "plt.imshow(img)"
   ]
  },
  {
   "cell_type": "code",
   "execution_count": null,
   "metadata": {},
   "outputs": [],
   "source": [
    "#試したい画像の形を表示します。\n",
    "print(img.shape)"
   ]
  },
  {
   "cell_type": "markdown",
   "metadata": {},
   "source": [
    "### 上で（a,b,3）と表示されたなら、サイズがa×bでカラーであることを意味します、(a,b）と表示されたなら、サイズがa×bで白黒であることを意味します。"
   ]
  },
  {
   "cell_type": "markdown",
   "metadata": {},
   "source": [
    "### 我々が作ったモデルはサイズが28×28で白黒の画像（背景が黒で文字が白い）で学習させたので試したい画像も同じようにしなければいけません。"
   ]
  },
  {
   "cell_type": "code",
   "execution_count": null,
   "metadata": {
    "colab": {},
    "colab_type": "code",
    "id": "PH8ICkK3TuBS"
   },
   "outputs": [],
   "source": [
    "#まずサイズを28×28にします\n",
    "resized = cv2.resize(img, (28, 28))"
   ]
  },
  {
   "cell_type": "code",
   "execution_count": null,
   "metadata": {
    "colab": {
     "base_uri": "https://localhost:8080/",
     "height": 34
    },
    "colab_type": "code",
    "id": "Rlfsr47dT-mc",
    "outputId": "629c9d21-d773-491e-e655-f911c475a30f"
   },
   "outputs": [],
   "source": [
    "#28×28となっていることを確認してください。\n",
    "print(resized.shape)"
   ]
  },
  {
   "cell_type": "code",
   "execution_count": null,
   "metadata": {},
   "outputs": [],
   "source": [
    "#matplotlibを使う\n",
    "plt.imshow(resized)"
   ]
  },
  {
   "cell_type": "code",
   "execution_count": null,
   "metadata": {
    "colab": {},
    "colab_type": "code",
    "id": "PXThaY-tUDDC"
   },
   "outputs": [],
   "source": [
    "#次に白黒にします。print(img.shape)で（a,b)となった人は不要です。\n",
    "grayed = cv2.cvtColor(resized, cv2.COLOR_RGB2GRAY)"
   ]
  },
  {
   "cell_type": "code",
   "execution_count": null,
   "metadata": {
    "colab": {
     "base_uri": "https://localhost:8080/",
     "height": 34
    },
    "colab_type": "code",
    "id": "Nx32GwO7UGhG",
    "outputId": "77fc8bc5-7071-4aa5-86a5-787b29130d5e"
   },
   "outputs": [],
   "source": [
    "#３番目の引数がなくなっていることを確認してください。\n",
    "print(grayed.shape)"
   ]
  },
  {
   "cell_type": "code",
   "execution_count": null,
   "metadata": {
    "colab": {
     "base_uri": "https://localhost:8080/",
     "height": 282
    },
    "colab_type": "code",
    "id": "GP_R_m5tUJGf",
    "outputId": "ff5f8d90-dc20-4d76-e0da-f719d4971a74"
   },
   "outputs": [],
   "source": [
    "plt.gray()\n",
    "plt.imshow(grayed)"
   ]
  },
  {
   "cell_type": "code",
   "execution_count": null,
   "metadata": {
    "colab": {},
    "colab_type": "code",
    "id": "kw5kljX4UNZx"
   },
   "outputs": [],
   "source": [
    "#白と黒を入れ替えて、黒背景で白文字となるようにします。\n",
    "inv = cv2.bitwise_not(grayed)"
   ]
  },
  {
   "cell_type": "code",
   "execution_count": null,
   "metadata": {
    "colab": {
     "base_uri": "https://localhost:8080/",
     "height": 282
    },
    "colab_type": "code",
    "id": "mZM9gcDXUlB7",
    "outputId": "1526d7b3-ed90-42fa-b223-8102862b66b7"
   },
   "outputs": [],
   "source": [
    "plt.gray()\n",
    "plt.imshow(inv)"
   ]
  },
  {
   "cell_type": "code",
   "execution_count": null,
   "metadata": {
    "colab": {
     "base_uri": "https://localhost:8080/",
     "height": 34
    },
    "colab_type": "code",
    "id": "ADXY5LZHUnbM",
    "outputId": "686ed774-c840-42de-b33f-7bc83c41dafb"
   },
   "outputs": [],
   "source": [
    "pred = model.predict(inv.reshape(1, 28, 28)).argmax()\n",
    "print('この画像の数字はズバリ ', pred, 'でしょう！！')\n"
   ]
  },
  {
   "cell_type": "markdown",
   "metadata": {
    "colab": {},
    "colab_type": "code",
    "id": "cJZxMmfqU8-y"
   },
   "source": [
    "### 参考"
   ]
  },
  {
   "cell_type": "markdown",
   "metadata": {},
   "source": [
    "#### この教材の作り方\n",
    "#### [マークダウンの記述](https://qiita.com/tbpgr/items/989c6badefff69377da7)   　　　     [jupyter notebookでのマークダウン](https://deepage.net/machine_learning/2016/12/13/jupyter_notebook.html)"
   ]
  },
  {
   "cell_type": "markdown",
   "metadata": {},
   "source": [
    "#### 発展（時間が余ったら）"
   ]
  },
  {
   "cell_type": "markdown",
   "metadata": {},
   "source": [
    "#### 画像データの集め方が知りたい人は[このnote](https://note.mu/barabara/n/n717a2b481c34)の冒頭をみてください。ちょいちょい間に入れてた補足のサイトをみて理解を深めたり、わからないところをググるのも良いかもしれませんね。\n"
   ]
  },
  {
   "cell_type": "code",
   "execution_count": null,
   "metadata": {},
   "outputs": [],
   "source": []
  }
 ],
 "metadata": {
  "colab": {
   "collapsed_sections": [],
   "name": "TensorFlow with GPU",
   "provenance": [],
   "version": "0.3.2"
  },
  "kernelspec": {
   "display_name": "Python 3",
   "language": "python",
   "name": "python3"
  },
  "language_info": {
   "codemirror_mode": {
    "name": "ipython",
    "version": 3
   },
   "file_extension": ".py",
   "mimetype": "text/x-python",
   "name": "python",
   "nbconvert_exporter": "python",
   "pygments_lexer": "ipython3",
   "version": "3.6.4"
  }
 },
 "nbformat": 4,
 "nbformat_minor": 1
}
